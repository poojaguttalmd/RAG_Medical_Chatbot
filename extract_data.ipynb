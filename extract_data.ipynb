{
  "nbformat": 4,
  "nbformat_minor": 0,
  "metadata": {
    "colab": {
      "provenance": []
    },
    "kernelspec": {
      "name": "python3",
      "display_name": "Python 3"
    },
    "language_info": {
      "name": "python"
    }
  },
  "cells": [
    {
      "cell_type": "code",
      "execution_count": 1,
      "metadata": {
        "colab": {
          "base_uri": "https://localhost:8080/"
        },
        "id": "fPKREtvhvvrR",
        "outputId": "143f9b6a-9d6a-414a-c9c4-0bcf741f5f15"
      },
      "outputs": [
        {
          "output_type": "stream",
          "name": "stdout",
          "text": [
            "Cloning into 'MedQuAD'...\n",
            "remote: Enumerating objects: 11310, done.\u001b[K\n",
            "remote: Counting objects: 100% (10/10), done.\u001b[K\n",
            "remote: Compressing objects: 100% (5/5), done.\u001b[K\n",
            "remote: Total 11310 (delta 7), reused 5 (delta 5), pack-reused 11300 (from 1)\u001b[K\n",
            "Receiving objects: 100% (11310/11310), 11.01 MiB | 14.74 MiB/s, done.\n",
            "Resolving deltas: 100% (6807/6807), done.\n",
            "Updating files: 100% (11277/11277), done.\n"
          ]
        }
      ],
      "source": [
        "!git clone https://github.com/abachaa/MedQuAD.git"
      ]
    },
    {
      "cell_type": "code",
      "source": [
        "!rm -r /content/MedQuAD/10_MPlus_ADAM_QA"
      ],
      "metadata": {
        "id": "EzL-34w-v5fv"
      },
      "execution_count": 2,
      "outputs": []
    },
    {
      "cell_type": "code",
      "source": [
        "!rm -r /content/MedQuAD/11_MPlusDrugs_QA"
      ],
      "metadata": {
        "id": "eV2HhDn5wHUL"
      },
      "execution_count": 3,
      "outputs": []
    },
    {
      "cell_type": "code",
      "source": [
        "!rm -r /content/MedQuAD/12_MPlusHerbsSupplements_QA"
      ],
      "metadata": {
        "id": "F09-a-nQwI8N"
      },
      "execution_count": 4,
      "outputs": []
    },
    {
      "cell_type": "code",
      "source": [
        "import xml.etree.ElementTree as ET\n",
        "import csv\n",
        "import os\n",
        "import pandas as pd\n",
        "import numpy as np"
      ],
      "metadata": {
        "id": "SesnvRZVwiBV"
      },
      "execution_count": 18,
      "outputs": []
    },
    {
      "cell_type": "code",
      "source": [
        "with open('/content/MedQuAD/1_CancerGov_QA/0000001_1.xml', 'r') as f:\n",
        "  data = f.read()"
      ],
      "metadata": {
        "id": "NCaq7KIIwQt1"
      },
      "execution_count": 5,
      "outputs": []
    },
    {
      "cell_type": "code",
      "source": [
        "def parse(filepath):\n",
        "\n",
        "  with open(filepath, 'r') as f:\n",
        "    xml_data = f.read()\n",
        "\n",
        "  # Parse the XML data.\n",
        "  root = ET.fromstring(xml_data)\n",
        "\n",
        "  # Extract document-level metadata.\n",
        "  doc_id = root.attrib.get(\"id\", \"\")\n",
        "  doc_source = root.attrib.get(\"source\", \"\")\n",
        "  doc_url = root.attrib.get(\"url\", \"\")\n",
        "  focus = root.findtext(\"Focus\", default=\"\").strip()\n",
        "\n",
        "  # Extract UMLS metadata (if available).\n",
        "  umls_elem = root.find(\"FocusAnnotations/UMLS\")\n",
        "  if umls_elem is not None:\n",
        "      cuis = [cui.text.strip() for cui in umls_elem.find(\"CUIs\").findall(\"CUI\")] if umls_elem.find(\"CUIs\") is not None else []\n",
        "      semantic_types = [st.text.strip() for st in umls_elem.find(\"SemanticTypes\").findall(\"SemanticType\")] if umls_elem.find(\"SemanticTypes\") is not None else []\n",
        "      semantic_group = umls_elem.findtext(\"SemanticGroup\", default=\"\").strip()\n",
        "  else:\n",
        "      cuis = []\n",
        "      semantic_types = []\n",
        "      semantic_group = \"\"\n",
        "\n",
        "  # Prepare the CSV file for writing.\n",
        "  csv_filename = f\"extracted_data/{focus.split('/')[0]}_{doc_id}.csv\"\n",
        "  with open(csv_filename, \"w\", newline=\"\", encoding=\"utf-8\") as csvfile:\n",
        "      fieldnames = [\n",
        "          \"Document_ID\",\n",
        "          \"Document_Source\",\n",
        "          \"Document_URL\",\n",
        "          \"Focus\",\n",
        "          \"UMLS_CUIs\",\n",
        "          \"UMLS_SemanticTypes\",\n",
        "          \"UMLS_SemanticGroup\",\n",
        "          \"QAPair_pid\",\n",
        "          \"Question_qid\",\n",
        "          \"Question_qtype\",\n",
        "          \"Question\",\n",
        "          \"Answer\"\n",
        "      ]\n",
        "      writer = csv.DictWriter(csvfile, fieldnames=fieldnames)\n",
        "      writer.writeheader()\n",
        "\n",
        "      # Iterate over each QAPair element.\n",
        "      for qa_pair in root.findall(\"QAPairs/QAPair\"):\n",
        "          pid = qa_pair.attrib.get(\"pid\", \"\")\n",
        "\n",
        "          question_elem = qa_pair.find(\"Question\")\n",
        "          question_text = question_elem.text.strip() if question_elem is not None and question_elem.text else \"\"\n",
        "          question_qid = question_elem.attrib.get(\"qid\", \"\") if question_elem is not None else \"\"\n",
        "          question_qtype = question_elem.attrib.get(\"qtype\", \"\") if question_elem is not None else \"\"\n",
        "\n",
        "          answer_elem = qa_pair.find(\"Answer\")\n",
        "          answer_text = answer_elem.text.strip() if answer_elem is not None and answer_elem.text else \"\"\n",
        "\n",
        "          # Create a row that includes both document metadata and the QA pair data.\n",
        "          row = {\n",
        "              \"Document_ID\": doc_id,\n",
        "              \"Document_Source\": doc_source,\n",
        "              \"Document_URL\": doc_url,\n",
        "              \"Focus\": focus,\n",
        "              \"UMLS_CUIs\": \"; \".join(cuis),\n",
        "              \"UMLS_SemanticTypes\": \"; \".join(semantic_types),\n",
        "              \"UMLS_SemanticGroup\": semantic_group,\n",
        "              \"QAPair_pid\": pid,\n",
        "              \"Question_qid\": question_qid,\n",
        "              \"Question_qtype\": question_qtype,\n",
        "              \"Question\": question_text,\n",
        "              \"Answer\": answer_text\n",
        "          }\n",
        "          writer.writerow(row)\n",
        "\n",
        "  # print(f\"Data extraction complete. CSV file '{csv_filename}' has been created.\")\n"
      ],
      "metadata": {
        "id": "g49FFBrdwKdO"
      },
      "execution_count": 41,
      "outputs": []
    },
    {
      "cell_type": "code",
      "source": [
        "parse('/content/MedQuAD/1_CancerGov_QA/0000001_1.xml')"
      ],
      "metadata": {
        "id": "AzI85etGwx6D"
      },
      "execution_count": 42,
      "outputs": []
    },
    {
      "cell_type": "code",
      "source": [
        "os.chdir('/content/MedQuAD/')\n",
        "os.getcwd()"
      ],
      "metadata": {
        "colab": {
          "base_uri": "https://localhost:8080/",
          "height": 36
        },
        "id": "j0t5Og-xw5UZ",
        "outputId": "09dcd19f-bcca-480f-a93b-eb06b8e83232"
      },
      "execution_count": 43,
      "outputs": [
        {
          "output_type": "execute_result",
          "data": {
            "text/plain": [
              "'/content/MedQuAD'"
            ],
            "application/vnd.google.colaboratory.intrinsic+json": {
              "type": "string"
            }
          },
          "metadata": {},
          "execution_count": 43
        }
      ]
    },
    {
      "cell_type": "code",
      "source": [
        "dirs = os.listdir()\n",
        "dirs.sort()"
      ],
      "metadata": {
        "id": "SBBs07jFxKCQ"
      },
      "execution_count": 44,
      "outputs": []
    },
    {
      "cell_type": "code",
      "source": [
        "dirs = dirs[2:-4]"
      ],
      "metadata": {
        "id": "HUMLt3xDxhid"
      },
      "execution_count": 45,
      "outputs": []
    },
    {
      "cell_type": "code",
      "source": [
        "!rm -r /content/MedQuAD/extracted_data/*"
      ],
      "metadata": {
        "id": "DS87C6UMykKK"
      },
      "execution_count": 46,
      "outputs": []
    },
    {
      "cell_type": "code",
      "source": [
        "for dir in dirs:\n",
        "  try:\n",
        "    currpath = os.getcwd()\n",
        "    all_files = os.listdir(currpath + '/' + dir)\n",
        "    for f in all_files:\n",
        "      parse(currpath + '/' + dir + '/' + f)\n",
        "  except:\n",
        "    print('currpath', currpath)\n",
        "    print('dir', dir)\n",
        "    print('f', f)"
      ],
      "metadata": {
        "id": "FVimNhwSxmZq"
      },
      "execution_count": 47,
      "outputs": []
    },
    {
      "cell_type": "code",
      "source": [
        "os.chdir('/content/MedQuAD/extracted_data')"
      ],
      "metadata": {
        "id": "hc-x7OBbzNbW"
      },
      "execution_count": 50,
      "outputs": []
    },
    {
      "cell_type": "code",
      "source": [
        "len(os.listdir())"
      ],
      "metadata": {
        "colab": {
          "base_uri": "https://localhost:8080/"
        },
        "id": "9_xG5BHfzZCC",
        "outputId": "2987e3a4-3cd0-4d84-e4bc-4af6790063fc"
      },
      "execution_count": 51,
      "outputs": [
        {
          "output_type": "execute_result",
          "data": {
            "text/plain": [
              "5493"
            ]
          },
          "metadata": {},
          "execution_count": 51
        }
      ]
    },
    {
      "cell_type": "code",
      "source": [
        "all_files = os.listdir()\n",
        "xdf = pd.DataFrame()\n",
        "for f in all_files:\n",
        "  xdf = pd.concat([xdf, pd.read_csv(f)])"
      ],
      "metadata": {
        "id": "0jKpBqv-zc1r"
      },
      "execution_count": 52,
      "outputs": []
    },
    {
      "cell_type": "code",
      "source": [
        "xdf.reset_index(inplace=True, drop=True)"
      ],
      "metadata": {
        "id": "YtaCG8VJ0CMl"
      },
      "execution_count": 56,
      "outputs": []
    },
    {
      "cell_type": "code",
      "source": [
        "xdf.head()"
      ],
      "metadata": {
        "colab": {
          "base_uri": "https://localhost:8080/",
          "height": 435
        },
        "id": "9ejEQmBezu3S",
        "outputId": "de9a981e-f433-4620-e800-7f480a79ea9f"
      },
      "execution_count": 57,
      "outputs": [
        {
          "output_type": "execute_result",
          "data": {
            "text/plain": [
              "  Document_ID Document_Source  \\\n",
              "0        3472            GARD   \n",
              "1        3472            GARD   \n",
              "2        3382            GARD   \n",
              "3        3382            GARD   \n",
              "4        5204            GARD   \n",
              "\n",
              "                                        Document_URL  \\\n",
              "0  https://rarediseases.info.nih.gov/gard/10323/l...   \n",
              "1  https://rarediseases.info.nih.gov/gard/10323/l...   \n",
              "2  https://rarediseases.info.nih.gov/gard/6830/ke...   \n",
              "3  https://rarediseases.info.nih.gov/gard/6830/ke...   \n",
              "4  https://rarediseases.info.nih.gov/gard/10428/p...   \n",
              "\n",
              "                                              Focus UMLS_CUIs  \\\n",
              "0  L-arginine:glycine amidinotransferase deficiency  C2675179   \n",
              "1  L-arginine:glycine amidinotransferase deficiency  C2675179   \n",
              "2                                       Kernicterus  C0022610   \n",
              "3                                       Kernicterus  C0022610   \n",
              "4                            Pure autonomic failure  C0393911   \n",
              "\n",
              "  UMLS_SemanticTypes UMLS_SemanticGroup QAPair_pid Question_qid  \\\n",
              "0               T047          Disorders          1    0003472-1   \n",
              "1               T047          Disorders          2    0003472-2   \n",
              "2               T047          Disorders          1    0003382-1   \n",
              "3               T047          Disorders          2    0003382-2   \n",
              "4               T047          Disorders          1    0005204-1   \n",
              "\n",
              "  Question_qtype                                           Question  \\\n",
              "0    information  What is (are) L-arginine:glycine amidinotransf...   \n",
              "1       symptoms  What are the symptoms of L-arginine:glycine am...   \n",
              "2    information                        What is (are) Kernicterus ?   \n",
              "3       symptoms             What are the symptoms of Kernicterus ?   \n",
              "4    information             What is (are) Pure autonomic failure ?   \n",
              "\n",
              "                                              Answer  \n",
              "0  L-arginine:glycine amidinotransferase (AGAT) d...  \n",
              "1  What are the signs and symptoms of L-arginine:...  \n",
              "2  Kernicterus is a rare condition that affects t...  \n",
              "3  What are the signs and symptoms of Kernicterus...  \n",
              "4  Pure autonomic failure is characterized by gen...  "
            ],
            "text/html": [
              "\n",
              "  <div id=\"df-565cf897-233a-42b8-b6a2-40c1be9c0755\" class=\"colab-df-container\">\n",
              "    <div>\n",
              "<style scoped>\n",
              "    .dataframe tbody tr th:only-of-type {\n",
              "        vertical-align: middle;\n",
              "    }\n",
              "\n",
              "    .dataframe tbody tr th {\n",
              "        vertical-align: top;\n",
              "    }\n",
              "\n",
              "    .dataframe thead th {\n",
              "        text-align: right;\n",
              "    }\n",
              "</style>\n",
              "<table border=\"1\" class=\"dataframe\">\n",
              "  <thead>\n",
              "    <tr style=\"text-align: right;\">\n",
              "      <th></th>\n",
              "      <th>Document_ID</th>\n",
              "      <th>Document_Source</th>\n",
              "      <th>Document_URL</th>\n",
              "      <th>Focus</th>\n",
              "      <th>UMLS_CUIs</th>\n",
              "      <th>UMLS_SemanticTypes</th>\n",
              "      <th>UMLS_SemanticGroup</th>\n",
              "      <th>QAPair_pid</th>\n",
              "      <th>Question_qid</th>\n",
              "      <th>Question_qtype</th>\n",
              "      <th>Question</th>\n",
              "      <th>Answer</th>\n",
              "    </tr>\n",
              "  </thead>\n",
              "  <tbody>\n",
              "    <tr>\n",
              "      <th>0</th>\n",
              "      <td>3472</td>\n",
              "      <td>GARD</td>\n",
              "      <td>https://rarediseases.info.nih.gov/gard/10323/l...</td>\n",
              "      <td>L-arginine:glycine amidinotransferase deficiency</td>\n",
              "      <td>C2675179</td>\n",
              "      <td>T047</td>\n",
              "      <td>Disorders</td>\n",
              "      <td>1</td>\n",
              "      <td>0003472-1</td>\n",
              "      <td>information</td>\n",
              "      <td>What is (are) L-arginine:glycine amidinotransf...</td>\n",
              "      <td>L-arginine:glycine amidinotransferase (AGAT) d...</td>\n",
              "    </tr>\n",
              "    <tr>\n",
              "      <th>1</th>\n",
              "      <td>3472</td>\n",
              "      <td>GARD</td>\n",
              "      <td>https://rarediseases.info.nih.gov/gard/10323/l...</td>\n",
              "      <td>L-arginine:glycine amidinotransferase deficiency</td>\n",
              "      <td>C2675179</td>\n",
              "      <td>T047</td>\n",
              "      <td>Disorders</td>\n",
              "      <td>2</td>\n",
              "      <td>0003472-2</td>\n",
              "      <td>symptoms</td>\n",
              "      <td>What are the symptoms of L-arginine:glycine am...</td>\n",
              "      <td>What are the signs and symptoms of L-arginine:...</td>\n",
              "    </tr>\n",
              "    <tr>\n",
              "      <th>2</th>\n",
              "      <td>3382</td>\n",
              "      <td>GARD</td>\n",
              "      <td>https://rarediseases.info.nih.gov/gard/6830/ke...</td>\n",
              "      <td>Kernicterus</td>\n",
              "      <td>C0022610</td>\n",
              "      <td>T047</td>\n",
              "      <td>Disorders</td>\n",
              "      <td>1</td>\n",
              "      <td>0003382-1</td>\n",
              "      <td>information</td>\n",
              "      <td>What is (are) Kernicterus ?</td>\n",
              "      <td>Kernicterus is a rare condition that affects t...</td>\n",
              "    </tr>\n",
              "    <tr>\n",
              "      <th>3</th>\n",
              "      <td>3382</td>\n",
              "      <td>GARD</td>\n",
              "      <td>https://rarediseases.info.nih.gov/gard/6830/ke...</td>\n",
              "      <td>Kernicterus</td>\n",
              "      <td>C0022610</td>\n",
              "      <td>T047</td>\n",
              "      <td>Disorders</td>\n",
              "      <td>2</td>\n",
              "      <td>0003382-2</td>\n",
              "      <td>symptoms</td>\n",
              "      <td>What are the symptoms of Kernicterus ?</td>\n",
              "      <td>What are the signs and symptoms of Kernicterus...</td>\n",
              "    </tr>\n",
              "    <tr>\n",
              "      <th>4</th>\n",
              "      <td>5204</td>\n",
              "      <td>GARD</td>\n",
              "      <td>https://rarediseases.info.nih.gov/gard/10428/p...</td>\n",
              "      <td>Pure autonomic failure</td>\n",
              "      <td>C0393911</td>\n",
              "      <td>T047</td>\n",
              "      <td>Disorders</td>\n",
              "      <td>1</td>\n",
              "      <td>0005204-1</td>\n",
              "      <td>information</td>\n",
              "      <td>What is (are) Pure autonomic failure ?</td>\n",
              "      <td>Pure autonomic failure is characterized by gen...</td>\n",
              "    </tr>\n",
              "  </tbody>\n",
              "</table>\n",
              "</div>\n",
              "    <div class=\"colab-df-buttons\">\n",
              "\n",
              "  <div class=\"colab-df-container\">\n",
              "    <button class=\"colab-df-convert\" onclick=\"convertToInteractive('df-565cf897-233a-42b8-b6a2-40c1be9c0755')\"\n",
              "            title=\"Convert this dataframe to an interactive table.\"\n",
              "            style=\"display:none;\">\n",
              "\n",
              "  <svg xmlns=\"http://www.w3.org/2000/svg\" height=\"24px\" viewBox=\"0 -960 960 960\">\n",
              "    <path d=\"M120-120v-720h720v720H120Zm60-500h600v-160H180v160Zm220 220h160v-160H400v160Zm0 220h160v-160H400v160ZM180-400h160v-160H180v160Zm440 0h160v-160H620v160ZM180-180h160v-160H180v160Zm440 0h160v-160H620v160Z\"/>\n",
              "  </svg>\n",
              "    </button>\n",
              "\n",
              "  <style>\n",
              "    .colab-df-container {\n",
              "      display:flex;\n",
              "      gap: 12px;\n",
              "    }\n",
              "\n",
              "    .colab-df-convert {\n",
              "      background-color: #E8F0FE;\n",
              "      border: none;\n",
              "      border-radius: 50%;\n",
              "      cursor: pointer;\n",
              "      display: none;\n",
              "      fill: #1967D2;\n",
              "      height: 32px;\n",
              "      padding: 0 0 0 0;\n",
              "      width: 32px;\n",
              "    }\n",
              "\n",
              "    .colab-df-convert:hover {\n",
              "      background-color: #E2EBFA;\n",
              "      box-shadow: 0px 1px 2px rgba(60, 64, 67, 0.3), 0px 1px 3px 1px rgba(60, 64, 67, 0.15);\n",
              "      fill: #174EA6;\n",
              "    }\n",
              "\n",
              "    .colab-df-buttons div {\n",
              "      margin-bottom: 4px;\n",
              "    }\n",
              "\n",
              "    [theme=dark] .colab-df-convert {\n",
              "      background-color: #3B4455;\n",
              "      fill: #D2E3FC;\n",
              "    }\n",
              "\n",
              "    [theme=dark] .colab-df-convert:hover {\n",
              "      background-color: #434B5C;\n",
              "      box-shadow: 0px 1px 3px 1px rgba(0, 0, 0, 0.15);\n",
              "      filter: drop-shadow(0px 1px 2px rgba(0, 0, 0, 0.3));\n",
              "      fill: #FFFFFF;\n",
              "    }\n",
              "  </style>\n",
              "\n",
              "    <script>\n",
              "      const buttonEl =\n",
              "        document.querySelector('#df-565cf897-233a-42b8-b6a2-40c1be9c0755 button.colab-df-convert');\n",
              "      buttonEl.style.display =\n",
              "        google.colab.kernel.accessAllowed ? 'block' : 'none';\n",
              "\n",
              "      async function convertToInteractive(key) {\n",
              "        const element = document.querySelector('#df-565cf897-233a-42b8-b6a2-40c1be9c0755');\n",
              "        const dataTable =\n",
              "          await google.colab.kernel.invokeFunction('convertToInteractive',\n",
              "                                                    [key], {});\n",
              "        if (!dataTable) return;\n",
              "\n",
              "        const docLinkHtml = 'Like what you see? Visit the ' +\n",
              "          '<a target=\"_blank\" href=https://colab.research.google.com/notebooks/data_table.ipynb>data table notebook</a>'\n",
              "          + ' to learn more about interactive tables.';\n",
              "        element.innerHTML = '';\n",
              "        dataTable['output_type'] = 'display_data';\n",
              "        await google.colab.output.renderOutput(dataTable, element);\n",
              "        const docLink = document.createElement('div');\n",
              "        docLink.innerHTML = docLinkHtml;\n",
              "        element.appendChild(docLink);\n",
              "      }\n",
              "    </script>\n",
              "  </div>\n",
              "\n",
              "\n",
              "<div id=\"df-8a7bf99a-f477-4ad4-8aff-842bd2d42e01\">\n",
              "  <button class=\"colab-df-quickchart\" onclick=\"quickchart('df-8a7bf99a-f477-4ad4-8aff-842bd2d42e01')\"\n",
              "            title=\"Suggest charts\"\n",
              "            style=\"display:none;\">\n",
              "\n",
              "<svg xmlns=\"http://www.w3.org/2000/svg\" height=\"24px\"viewBox=\"0 0 24 24\"\n",
              "     width=\"24px\">\n",
              "    <g>\n",
              "        <path d=\"M19 3H5c-1.1 0-2 .9-2 2v14c0 1.1.9 2 2 2h14c1.1 0 2-.9 2-2V5c0-1.1-.9-2-2-2zM9 17H7v-7h2v7zm4 0h-2V7h2v10zm4 0h-2v-4h2v4z\"/>\n",
              "    </g>\n",
              "</svg>\n",
              "  </button>\n",
              "\n",
              "<style>\n",
              "  .colab-df-quickchart {\n",
              "      --bg-color: #E8F0FE;\n",
              "      --fill-color: #1967D2;\n",
              "      --hover-bg-color: #E2EBFA;\n",
              "      --hover-fill-color: #174EA6;\n",
              "      --disabled-fill-color: #AAA;\n",
              "      --disabled-bg-color: #DDD;\n",
              "  }\n",
              "\n",
              "  [theme=dark] .colab-df-quickchart {\n",
              "      --bg-color: #3B4455;\n",
              "      --fill-color: #D2E3FC;\n",
              "      --hover-bg-color: #434B5C;\n",
              "      --hover-fill-color: #FFFFFF;\n",
              "      --disabled-bg-color: #3B4455;\n",
              "      --disabled-fill-color: #666;\n",
              "  }\n",
              "\n",
              "  .colab-df-quickchart {\n",
              "    background-color: var(--bg-color);\n",
              "    border: none;\n",
              "    border-radius: 50%;\n",
              "    cursor: pointer;\n",
              "    display: none;\n",
              "    fill: var(--fill-color);\n",
              "    height: 32px;\n",
              "    padding: 0;\n",
              "    width: 32px;\n",
              "  }\n",
              "\n",
              "  .colab-df-quickchart:hover {\n",
              "    background-color: var(--hover-bg-color);\n",
              "    box-shadow: 0 1px 2px rgba(60, 64, 67, 0.3), 0 1px 3px 1px rgba(60, 64, 67, 0.15);\n",
              "    fill: var(--button-hover-fill-color);\n",
              "  }\n",
              "\n",
              "  .colab-df-quickchart-complete:disabled,\n",
              "  .colab-df-quickchart-complete:disabled:hover {\n",
              "    background-color: var(--disabled-bg-color);\n",
              "    fill: var(--disabled-fill-color);\n",
              "    box-shadow: none;\n",
              "  }\n",
              "\n",
              "  .colab-df-spinner {\n",
              "    border: 2px solid var(--fill-color);\n",
              "    border-color: transparent;\n",
              "    border-bottom-color: var(--fill-color);\n",
              "    animation:\n",
              "      spin 1s steps(1) infinite;\n",
              "  }\n",
              "\n",
              "  @keyframes spin {\n",
              "    0% {\n",
              "      border-color: transparent;\n",
              "      border-bottom-color: var(--fill-color);\n",
              "      border-left-color: var(--fill-color);\n",
              "    }\n",
              "    20% {\n",
              "      border-color: transparent;\n",
              "      border-left-color: var(--fill-color);\n",
              "      border-top-color: var(--fill-color);\n",
              "    }\n",
              "    30% {\n",
              "      border-color: transparent;\n",
              "      border-left-color: var(--fill-color);\n",
              "      border-top-color: var(--fill-color);\n",
              "      border-right-color: var(--fill-color);\n",
              "    }\n",
              "    40% {\n",
              "      border-color: transparent;\n",
              "      border-right-color: var(--fill-color);\n",
              "      border-top-color: var(--fill-color);\n",
              "    }\n",
              "    60% {\n",
              "      border-color: transparent;\n",
              "      border-right-color: var(--fill-color);\n",
              "    }\n",
              "    80% {\n",
              "      border-color: transparent;\n",
              "      border-right-color: var(--fill-color);\n",
              "      border-bottom-color: var(--fill-color);\n",
              "    }\n",
              "    90% {\n",
              "      border-color: transparent;\n",
              "      border-bottom-color: var(--fill-color);\n",
              "    }\n",
              "  }\n",
              "</style>\n",
              "\n",
              "  <script>\n",
              "    async function quickchart(key) {\n",
              "      const quickchartButtonEl =\n",
              "        document.querySelector('#' + key + ' button');\n",
              "      quickchartButtonEl.disabled = true;  // To prevent multiple clicks.\n",
              "      quickchartButtonEl.classList.add('colab-df-spinner');\n",
              "      try {\n",
              "        const charts = await google.colab.kernel.invokeFunction(\n",
              "            'suggestCharts', [key], {});\n",
              "      } catch (error) {\n",
              "        console.error('Error during call to suggestCharts:', error);\n",
              "      }\n",
              "      quickchartButtonEl.classList.remove('colab-df-spinner');\n",
              "      quickchartButtonEl.classList.add('colab-df-quickchart-complete');\n",
              "    }\n",
              "    (() => {\n",
              "      let quickchartButtonEl =\n",
              "        document.querySelector('#df-8a7bf99a-f477-4ad4-8aff-842bd2d42e01 button');\n",
              "      quickchartButtonEl.style.display =\n",
              "        google.colab.kernel.accessAllowed ? 'block' : 'none';\n",
              "    })();\n",
              "  </script>\n",
              "</div>\n",
              "\n",
              "    </div>\n",
              "  </div>\n"
            ],
            "application/vnd.google.colaboratory.intrinsic+json": {
              "type": "dataframe",
              "variable_name": "xdf",
              "summary": "{\n  \"name\": \"xdf\",\n  \"rows\": 16409,\n  \"fields\": [\n    {\n      \"column\": \"Document_ID\",\n      \"properties\": {\n        \"dtype\": \"category\",\n        \"num_unique_values\": 3488,\n        \"samples\": [\n          552,\n          97,\n          2656\n        ],\n        \"semantic_type\": \"\",\n        \"description\": \"\"\n      }\n    },\n    {\n      \"column\": \"Document_Source\",\n      \"properties\": {\n        \"dtype\": \"category\",\n        \"num_unique_values\": 9,\n        \"samples\": [\n          \"CDC\",\n          \"NINDS\",\n          \"NIDDK\"\n        ],\n        \"semantic_type\": \"\",\n        \"description\": \"\"\n      }\n    },\n    {\n      \"column\": \"Document_URL\",\n      \"properties\": {\n        \"dtype\": \"category\",\n        \"num_unique_values\": 5477,\n        \"samples\": [\n          \"https://www.nlm.nih.gov/medlineplus/flushot.html\",\n          \"https://rarediseases.info.nih.gov/gard/156/muscle-eye-brain-disease\",\n          \"https://ghr.nlm.nih.gov/condition/focal-dermal-hypoplasia\"\n        ],\n        \"semantic_type\": \"\",\n        \"description\": \"\"\n      }\n    },\n    {\n      \"column\": \"Focus\",\n      \"properties\": {\n        \"dtype\": \"category\",\n        \"num_unique_values\": 5125,\n        \"samples\": [\n          \"Genetic Counseling\",\n          \"Cartilage Disorders\",\n          \"Hair defect with photosensitivity and mental retardation\"\n        ],\n        \"semantic_type\": \"\",\n        \"description\": \"\"\n      }\n    },\n    {\n      \"column\": \"UMLS_CUIs\",\n      \"properties\": {\n        \"dtype\": \"category\",\n        \"num_unique_values\": 3825,\n        \"samples\": [\n          \"C0032027\",\n          \"C1845546; C0039082\",\n          \"C3839741\"\n        ],\n        \"semantic_type\": \"\",\n        \"description\": \"\"\n      }\n    },\n    {\n      \"column\": \"UMLS_SemanticTypes\",\n      \"properties\": {\n        \"dtype\": \"category\",\n        \"num_unique_values\": 81,\n        \"samples\": [\n          \"T048; T033\",\n          \"T047\",\n          \"T048; T047; T033\"\n        ],\n        \"semantic_type\": \"\",\n        \"description\": \"\"\n      }\n    },\n    {\n      \"column\": \"UMLS_SemanticGroup\",\n      \"properties\": {\n        \"dtype\": \"category\",\n        \"num_unique_values\": 1,\n        \"samples\": [\n          \"Disorders\"\n        ],\n        \"semantic_type\": \"\",\n        \"description\": \"\"\n      }\n    },\n    {\n      \"column\": \"QAPair_pid\",\n      \"properties\": {\n        \"dtype\": \"date\",\n        \"min\": 1,\n        \"max\": 41,\n        \"num_unique_values\": 41,\n        \"samples\": [\n          23\n        ],\n        \"semantic_type\": \"\",\n        \"description\": \"\"\n      }\n    },\n    {\n      \"column\": \"Question_qid\",\n      \"properties\": {\n        \"dtype\": \"string\",\n        \"num_unique_values\": 12138,\n        \"samples\": [\n          \"0003370-1\"\n        ],\n        \"semantic_type\": \"\",\n        \"description\": \"\"\n      }\n    },\n    {\n      \"column\": \"Question_qtype\",\n      \"properties\": {\n        \"dtype\": \"category\",\n        \"num_unique_values\": 16,\n        \"samples\": [\n          \"information\"\n        ],\n        \"semantic_type\": \"\",\n        \"description\": \"\"\n      }\n    },\n    {\n      \"column\": \"Question\",\n      \"properties\": {\n        \"dtype\": \"string\",\n        \"num_unique_values\": 14981,\n        \"samples\": [\n          \"What is (are) juvenile polyposis syndrome ?\"\n        ],\n        \"semantic_type\": \"\",\n        \"description\": \"\"\n      }\n    },\n    {\n      \"column\": \"Answer\",\n      \"properties\": {\n        \"dtype\": \"string\",\n        \"num_unique_values\": 15814,\n        \"samples\": [\n          \"New types of treatment are being tested in clinical trials.\\n                    \\n                \\n                \\n                    Patients may want to think about taking part in a clinical trial.\\n                    For some patients, taking part in a clinical trial may be the best treatment choice. Clinical trials are part of the cancer research process. Clinical trials are done to find out if new cancer treatments are safe and effective or better than the standard treatment.   Many of today's standard treatments for cancer are based on earlier clinical trials. Patients who take part in a clinical trial may receive the standard treatment or be among the first to receive a new treatment.   Patients who take part in clinical trials also help improve the way cancer will be treated in the future. Even when clinical trials do not lead to effective new treatments, they often answer important questions and help move research forward.\\n                \\n                \\n                    Patients can enter clinical trials before, during, or after starting their cancer treatment.\\n                    Some clinical trials only include patients who have not yet received treatment. Other trials test treatments for patients whose cancer has not gotten better. There are also clinical trials that test new ways to stop cancer from recurring (coming back) or reduce the side effects of cancer treatment.   Clinical trials are taking place in many parts of the country. See the Treatment Options section that follows for links to current treatment clinical trials. These have been retrieved from NCI's listing of clinical trials.\"\n        ],\n        \"semantic_type\": \"\",\n        \"description\": \"\"\n      }\n    }\n  ]\n}"
            }
          },
          "metadata": {},
          "execution_count": 57
        }
      ]
    },
    {
      "cell_type": "code",
      "source": [
        "xdf.to_csv('/content/all_data.csv')"
      ],
      "metadata": {
        "id": "rUw2eu1Szjxn"
      },
      "execution_count": 59,
      "outputs": []
    },
    {
      "cell_type": "code",
      "source": [],
      "metadata": {
        "id": "hZZm8CRLz1Cv"
      },
      "execution_count": null,
      "outputs": []
    }
  ]
}